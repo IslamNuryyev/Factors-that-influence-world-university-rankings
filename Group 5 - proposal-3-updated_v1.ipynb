{
 "cells": [
  {
   "cell_type": "markdown",
   "id": "ec8a6fe4",
   "metadata": {},
   "source": [
    "\n",
    "# CSCI 2000U - Scientific Data Analysis\n",
    "\n",
    "Projet Group 5:\n",
    "\n",
    "Aanisha Newaz (100788588)\n",
    "Japnit Ahuja (100790042) \n",
    "Islam Nuryyev(100778667) \n",
    "Jessica Patel (100785837) \n",
    "\n",
    "<b>Final Project: Proposal\n",
    "    \n",
    "<b>Goals:  \n",
    "1.    Choose a dataset of interest\n",
    "2.    Report on the dataset’s potential for data analysis\n",
    "3.    List of initial research questions related to the dataset.\n",
    "\n",
    "<b> Chosen Dataset:\n",
    "    https://www.kaggle.com/mylesoneill/world-university-rankings"
   ]
  },
  {
   "cell_type": "markdown",
   "id": "e3a56af6",
   "metadata": {},
   "source": [
    "Name of dataset: World University Rankings\n",
    "\n",
    "The World University Rankings dataset collected by Myles O'Neill on www.kaggle.com is a dataset of ranked universities done by three different ranking institutes. For our analysis, we will be using the Center for World University Rankings (https://cwur.org/) dataset. This ranking list launched in 2012 in Saudi Arabia. \n",
    "\n",
    "The ranking list was formed from various different sources, including the Science Citation Index Expanded, Social Sciences Citation Index, and the Arts & Humanities Citation Index. These indexes were used to help sort universities based on different attributes.\n",
    "\n",
    "This dataset has upto fourteen attributes to help determing the chosen ranking for each universities:\n",
    "\n",
    "    1. World ranking\n",
    "        World ranking for universities in order from year 2012 - 2015        \n",
    "    2. Institution\n",
    "        Name of institutions\n",
    "    3. Country\n",
    "        Country of institutions's location\n",
    "    4. National ranking\n",
    "        Institution's ranking within it's country of origin\n",
    "    5. Quality of education\n",
    "        Rank for quality of education\n",
    "    6. Alumni employment\n",
    "        Rank for alumni employment\n",
    "    7. Quality of faculty\n",
    "        Rank for quality of faculty\n",
    "    8. Publications\n",
    "        Rank for publications\n",
    "    9. Influence\n",
    "        Rank for influence\n",
    "    10. Citations\n",
    "        Number of students at the university\n",
    "    11. Broad impact\n",
    "        Rank for broad impact\n",
    "    12. Patents\n",
    "        Rank for patents\n",
    "    13. Score\n",
    "        Total score that's used for determining world rank of institution\n",
    "    14. Year\n",
    "        Year of ranking (2012 - 2015)"
   ]
  },
  {
   "cell_type": "code",
   "execution_count": 1,
   "id": "261a78d6",
   "metadata": {},
   "outputs": [],
   "source": [
    "#importing used libraries\n",
    "import csv\n",
    "import re\n",
    "import math\n",
    "from functools import reduce\n",
    "import numpy as np\n",
    "import pandas as pd\n",
    "import matplotlib.pyplot as plt\n",
    "import seaborn as sns\n",
    "\n",
    "# this aux function reads the CSV file and returns the data in a Python dictionary\n",
    "def get_data_csv():\n",
    "    collection = []\n",
    "    with open('cwurData.csv', 'r') as f:\n",
    "        for line in csv.DictReader(f):\n",
    "            collection.append(line)\n",
    "        return collection\n",
    "        \n",
    "# the data    \n",
    "data = get_data_csv()"
   ]
  },
  {
   "cell_type": "markdown",
   "id": "81d2b2a3",
   "metadata": {},
   "source": [
    "### Get to know your data \n",
    "\n",
    "\n",
    "1. How many universities in the world were ranked? \n",
    "2. What do the top 3 universities' data look like? Display the top 3 universities.\n",
    "3. How many different countries are ranked? \n",
    "4. Which country appears most often on the list? \n",
    "5. What is the range of the total scores?\n",
    "6. Number of universities ranked each year\n",
    "7. Basic statistics chart \n",
    "8. Graph pf the number of times each country been ranked over the 4 years \n",
    "9. Graph of the top three countries total count over the years\n",
    "10. Correlation chart \n",
    "11. Correlation heatmap\n"
   ]
  },
  {
   "cell_type": "code",
   "execution_count": 2,
   "id": "34bbf9b2",
   "metadata": {},
   "outputs": [
    {
     "name": "stdout",
     "output_type": "stream",
     "text": [
      "Number of unique universities: 1024\n"
     ]
    }
   ],
   "source": [
    "#1. How many universities in the world were ranked?\n",
    "institutions = [x['institution'] for x in data]\n",
    "print(\"Number of unique universities:\",len(np.unique(institutions)))"
   ]
  },
  {
   "cell_type": "code",
   "execution_count": 3,
   "id": "449ebfa5",
   "metadata": {},
   "outputs": [
    {
     "data": {
      "text/plain": [
       "[{'world_rank': '1',\n",
       "  'institution': 'Harvard University',\n",
       "  'country': 'USA',\n",
       "  'national_rank': '1',\n",
       "  'quality_of_education': '7',\n",
       "  'alumni_employment': '9',\n",
       "  'quality_of_faculty': '1',\n",
       "  'publications': '1',\n",
       "  'influence': '1',\n",
       "  'citations': '1',\n",
       "  'broad_impact': '',\n",
       "  'patents': '5',\n",
       "  'score': '100',\n",
       "  'year': '2012'},\n",
       " {'world_rank': '2',\n",
       "  'institution': 'Massachusetts Institute of Technology',\n",
       "  'country': 'USA',\n",
       "  'national_rank': '2',\n",
       "  'quality_of_education': '9',\n",
       "  'alumni_employment': '17',\n",
       "  'quality_of_faculty': '3',\n",
       "  'publications': '12',\n",
       "  'influence': '4',\n",
       "  'citations': '4',\n",
       "  'broad_impact': '',\n",
       "  'patents': '1',\n",
       "  'score': '91.67',\n",
       "  'year': '2012'},\n",
       " {'world_rank': '3',\n",
       "  'institution': 'Stanford University',\n",
       "  'country': 'USA',\n",
       "  'national_rank': '3',\n",
       "  'quality_of_education': '17',\n",
       "  'alumni_employment': '11',\n",
       "  'quality_of_faculty': '5',\n",
       "  'publications': '4',\n",
       "  'influence': '2',\n",
       "  'citations': '2',\n",
       "  'broad_impact': '',\n",
       "  'patents': '15',\n",
       "  'score': '89.5',\n",
       "  'year': '2012'}]"
      ]
     },
     "execution_count": 3,
     "metadata": {},
     "output_type": "execute_result"
    }
   ],
   "source": [
    "#2. What do the top 3 universities data look like? Display the top 3 universities.\n",
    "data[:3]"
   ]
  },
  {
   "cell_type": "code",
   "execution_count": 4,
   "id": "10bc585b",
   "metadata": {},
   "outputs": [
    {
     "name": "stdout",
     "output_type": "stream",
     "text": [
      "['Argentina' 'Australia' 'Austria' 'Belgium' 'Brazil' 'Bulgaria' 'Canada'\n",
      " 'Chile' 'China' 'Colombia' 'Croatia' 'Cyprus' 'Czech Republic' 'Denmark'\n",
      " 'Egypt' 'Estonia' 'Finland' 'France' 'Germany' 'Greece' 'Hong Kong'\n",
      " 'Hungary' 'Iceland' 'India' 'Iran' 'Ireland' 'Israel' 'Italy' 'Japan'\n",
      " 'Lebanon' 'Lithuania' 'Malaysia' 'Mexico' 'Netherlands' 'New Zealand'\n",
      " 'Norway' 'Poland' 'Portugal' 'Puerto Rico' 'Romania' 'Russia'\n",
      " 'Saudi Arabia' 'Serbia' 'Singapore' 'Slovak Republic' 'Slovenia'\n",
      " 'South Africa' 'South Korea' 'Spain' 'Sweden' 'Switzerland' 'Taiwan'\n",
      " 'Thailand' 'Turkey' 'USA' 'Uganda' 'United Arab Emirates'\n",
      " 'United Kingdom' 'Uruguay'] \n",
      " 59 different countries ranked\n"
     ]
    }
   ],
   "source": [
    "#3. How many different counries are ranked? \n",
    "countries = [x['country'] for x in data]\n",
    "countries = np.unique(countries)\n",
    "print(countries,'\\n',len(countries), 'different countries ranked')"
   ]
  },
  {
   "cell_type": "code",
   "execution_count": 5,
   "id": "10e46895",
   "metadata": {},
   "outputs": [
    {
     "name": "stdout",
     "output_type": "stream",
     "text": [
      "{'USA': 572, 'United Kingdom': 143, 'Japan': 158, 'Switzerland': 25, 'Israel': 21, 'Canada': 71, 'France': 108, 'Sweden': 23, 'South Korea': 71, 'Italy': 95, 'Germany': 114, 'Netherlands': 28, 'Finland': 19, 'Norway': 11, 'Australia': 57, 'Denmark': 11, 'Singapore': 4, 'Russia': 8, 'China': 166, 'Taiwan': 45, 'Belgium': 19, 'South Africa': 9, 'Spain': 80, 'Brazil': 35, 'Hong Kong': 11, 'Ireland': 15, 'Austria': 23, 'New Zealand': 11, 'Portugal': 13, 'Thailand': 5, 'Czech Republic': 9, 'Malaysia': 5, 'India': 30, 'Greece': 13, 'Mexico': 3, 'Hungary': 11, 'Argentina': 6, 'Turkey': 19, 'Poland': 17, 'Saudi Arabia': 7, 'Chile': 7, 'Iceland': 1, 'Slovenia': 3, 'Estonia': 1, 'Lebanon': 1, 'Croatia': 1, 'Colombia': 3, 'Slovak Republic': 1, 'Iran': 15, 'Egypt': 7, 'Serbia': 1, 'Bulgaria': 1, 'Lithuania': 1, 'Uganda': 1, 'United Arab Emirates': 1, 'Uruguay': 1, 'Cyprus': 1, 'Romania': 2, 'Puerto Rico': 1}\n"
     ]
    }
   ],
   "source": [
    "#4. Which country appears most often on the list? \n",
    "countries_count = {}\n",
    "for country in [x['country'] for x in data]:\n",
    "    try:\n",
    "        countries_count[country] += 1\n",
    "    except:\n",
    "        countries_count[country] = 0\n",
    "sorted(countries_count.items(), key= lambda country: country[1])\n",
    "print(countries_count)"
   ]
  },
  {
   "cell_type": "code",
   "execution_count": 6,
   "id": "f8c8cca1",
   "metadata": {},
   "outputs": [
    {
     "name": "stdout",
     "output_type": "stream",
     "text": [
      "Range of total scores is: 43.36 - 100.0\n"
     ]
    }
   ],
   "source": [
    "#5. What is the range of the total scores?\n",
    "total_scores = [float(x['score']) for x in data]\n",
    "print(\"Range of total scores is:\", min(total_scores), \"-\", max(total_scores))"
   ]
  },
  {
   "cell_type": "code",
   "execution_count": 7,
   "id": "7e99fcad",
   "metadata": {},
   "outputs": [
    {
     "name": "stdout",
     "output_type": "stream",
     "text": [
      "year - no. of universities\n",
      "2012 - 100\n",
      "2013 - 100\n",
      "2014 - 1000\n",
      "2015 - 1000\n"
     ]
    }
   ],
   "source": [
    "#6. Number of universities ranked each year\n",
    "year_wise_uni_count = {}\n",
    "for uni in [x for x in data]:\n",
    "    try:\n",
    "        year_wise_uni_count[uni['year']].append(uni['institution'])\n",
    "    except:\n",
    "        year_wise_uni_count[uni['year']] = [uni['institution']]\n",
    "\n",
    "print(\"year - no. of universities\")\n",
    "for i in year_wise_uni_count:\n",
    "    print(i, \"-\", len(np.unique(year_wise_uni_count[i])))"
   ]
  },
  {
   "cell_type": "code",
   "execution_count": 8,
   "id": "df4bb22b",
   "metadata": {},
   "outputs": [
    {
     "data": {
      "text/html": [
       "<div>\n",
       "<style scoped>\n",
       "    .dataframe tbody tr th:only-of-type {\n",
       "        vertical-align: middle;\n",
       "    }\n",
       "\n",
       "    .dataframe tbody tr th {\n",
       "        vertical-align: top;\n",
       "    }\n",
       "\n",
       "    .dataframe thead th {\n",
       "        text-align: right;\n",
       "    }\n",
       "</style>\n",
       "<table border=\"1\" class=\"dataframe\">\n",
       "  <thead>\n",
       "    <tr style=\"text-align: right;\">\n",
       "      <th></th>\n",
       "      <th>world_rank</th>\n",
       "      <th>national_rank</th>\n",
       "      <th>quality_of_education</th>\n",
       "      <th>alumni_employment</th>\n",
       "      <th>quality_of_faculty</th>\n",
       "      <th>publications</th>\n",
       "      <th>influence</th>\n",
       "      <th>citations</th>\n",
       "      <th>broad_impact</th>\n",
       "      <th>patents</th>\n",
       "      <th>score</th>\n",
       "      <th>year</th>\n",
       "    </tr>\n",
       "  </thead>\n",
       "  <tbody>\n",
       "    <tr>\n",
       "      <th>count</th>\n",
       "      <td>2200.000000</td>\n",
       "      <td>2200.000000</td>\n",
       "      <td>2200.000000</td>\n",
       "      <td>2200.000000</td>\n",
       "      <td>2200.000000</td>\n",
       "      <td>2200.000000</td>\n",
       "      <td>2200.000000</td>\n",
       "      <td>2200.000000</td>\n",
       "      <td>2000.000000</td>\n",
       "      <td>2200.000000</td>\n",
       "      <td>2200.000000</td>\n",
       "      <td>2200.000000</td>\n",
       "    </tr>\n",
       "    <tr>\n",
       "      <th>mean</th>\n",
       "      <td>459.590909</td>\n",
       "      <td>40.278182</td>\n",
       "      <td>275.100455</td>\n",
       "      <td>357.116818</td>\n",
       "      <td>178.888182</td>\n",
       "      <td>459.908636</td>\n",
       "      <td>459.797727</td>\n",
       "      <td>413.417273</td>\n",
       "      <td>496.699500</td>\n",
       "      <td>433.346364</td>\n",
       "      <td>47.798395</td>\n",
       "      <td>2014.318182</td>\n",
       "    </tr>\n",
       "    <tr>\n",
       "      <th>std</th>\n",
       "      <td>304.320363</td>\n",
       "      <td>51.740870</td>\n",
       "      <td>121.935100</td>\n",
       "      <td>186.779252</td>\n",
       "      <td>64.050885</td>\n",
       "      <td>303.760352</td>\n",
       "      <td>303.331822</td>\n",
       "      <td>264.366549</td>\n",
       "      <td>286.919755</td>\n",
       "      <td>273.996525</td>\n",
       "      <td>7.760806</td>\n",
       "      <td>0.762130</td>\n",
       "    </tr>\n",
       "    <tr>\n",
       "      <th>min</th>\n",
       "      <td>1.000000</td>\n",
       "      <td>1.000000</td>\n",
       "      <td>1.000000</td>\n",
       "      <td>1.000000</td>\n",
       "      <td>1.000000</td>\n",
       "      <td>1.000000</td>\n",
       "      <td>1.000000</td>\n",
       "      <td>1.000000</td>\n",
       "      <td>1.000000</td>\n",
       "      <td>1.000000</td>\n",
       "      <td>43.360000</td>\n",
       "      <td>2012.000000</td>\n",
       "    </tr>\n",
       "    <tr>\n",
       "      <th>25%</th>\n",
       "      <td>175.750000</td>\n",
       "      <td>6.000000</td>\n",
       "      <td>175.750000</td>\n",
       "      <td>175.750000</td>\n",
       "      <td>175.750000</td>\n",
       "      <td>175.750000</td>\n",
       "      <td>175.750000</td>\n",
       "      <td>161.000000</td>\n",
       "      <td>250.500000</td>\n",
       "      <td>170.750000</td>\n",
       "      <td>44.460000</td>\n",
       "      <td>2014.000000</td>\n",
       "    </tr>\n",
       "    <tr>\n",
       "      <th>50%</th>\n",
       "      <td>450.500000</td>\n",
       "      <td>21.000000</td>\n",
       "      <td>355.000000</td>\n",
       "      <td>450.500000</td>\n",
       "      <td>210.000000</td>\n",
       "      <td>450.500000</td>\n",
       "      <td>450.500000</td>\n",
       "      <td>406.000000</td>\n",
       "      <td>496.000000</td>\n",
       "      <td>426.000000</td>\n",
       "      <td>45.100000</td>\n",
       "      <td>2014.000000</td>\n",
       "    </tr>\n",
       "    <tr>\n",
       "      <th>75%</th>\n",
       "      <td>725.250000</td>\n",
       "      <td>49.000000</td>\n",
       "      <td>367.000000</td>\n",
       "      <td>478.000000</td>\n",
       "      <td>218.000000</td>\n",
       "      <td>725.000000</td>\n",
       "      <td>725.250000</td>\n",
       "      <td>645.000000</td>\n",
       "      <td>741.000000</td>\n",
       "      <td>714.250000</td>\n",
       "      <td>47.545000</td>\n",
       "      <td>2015.000000</td>\n",
       "    </tr>\n",
       "    <tr>\n",
       "      <th>max</th>\n",
       "      <td>1000.000000</td>\n",
       "      <td>229.000000</td>\n",
       "      <td>367.000000</td>\n",
       "      <td>567.000000</td>\n",
       "      <td>218.000000</td>\n",
       "      <td>1000.000000</td>\n",
       "      <td>991.000000</td>\n",
       "      <td>812.000000</td>\n",
       "      <td>1000.000000</td>\n",
       "      <td>871.000000</td>\n",
       "      <td>100.000000</td>\n",
       "      <td>2015.000000</td>\n",
       "    </tr>\n",
       "  </tbody>\n",
       "</table>\n",
       "</div>"
      ],
      "text/plain": [
       "        world_rank  national_rank  quality_of_education  alumni_employment  \\\n",
       "count  2200.000000    2200.000000           2200.000000        2200.000000   \n",
       "mean    459.590909      40.278182            275.100455         357.116818   \n",
       "std     304.320363      51.740870            121.935100         186.779252   \n",
       "min       1.000000       1.000000              1.000000           1.000000   \n",
       "25%     175.750000       6.000000            175.750000         175.750000   \n",
       "50%     450.500000      21.000000            355.000000         450.500000   \n",
       "75%     725.250000      49.000000            367.000000         478.000000   \n",
       "max    1000.000000     229.000000            367.000000         567.000000   \n",
       "\n",
       "       quality_of_faculty  publications    influence    citations  \\\n",
       "count         2200.000000   2200.000000  2200.000000  2200.000000   \n",
       "mean           178.888182    459.908636   459.797727   413.417273   \n",
       "std             64.050885    303.760352   303.331822   264.366549   \n",
       "min              1.000000      1.000000     1.000000     1.000000   \n",
       "25%            175.750000    175.750000   175.750000   161.000000   \n",
       "50%            210.000000    450.500000   450.500000   406.000000   \n",
       "75%            218.000000    725.000000   725.250000   645.000000   \n",
       "max            218.000000   1000.000000   991.000000   812.000000   \n",
       "\n",
       "       broad_impact      patents        score         year  \n",
       "count   2000.000000  2200.000000  2200.000000  2200.000000  \n",
       "mean     496.699500   433.346364    47.798395  2014.318182  \n",
       "std      286.919755   273.996525     7.760806     0.762130  \n",
       "min        1.000000     1.000000    43.360000  2012.000000  \n",
       "25%      250.500000   170.750000    44.460000  2014.000000  \n",
       "50%      496.000000   426.000000    45.100000  2014.000000  \n",
       "75%      741.000000   714.250000    47.545000  2015.000000  \n",
       "max     1000.000000   871.000000   100.000000  2015.000000  "
      ]
     },
     "execution_count": 8,
     "metadata": {},
     "output_type": "execute_result"
    }
   ],
   "source": [
    "#7. Basic statistics chart \n",
    "df = pd.read_csv('cwurData.csv')\n",
    "df.describe()"
   ]
  },
  {
   "cell_type": "code",
   "execution_count": 89,
   "id": "bbfc3b25",
   "metadata": {},
   "outputs": [
    {
     "data": {
      "text/plain": [
       "Text(0.5, 1.0, 'Count of Countries')"
      ]
     },
     "execution_count": 89,
     "metadata": {},
     "output_type": "execute_result"
    },
    {
     "data": {
      "image/png": "[encoded data removed]",
      "text/plain": [
       "<Figure size 1008x432 with 1 Axes>"
      ]
     },
     "metadata": {
      "needs_background": "light"
     },
     "output_type": "display_data"
    }
   ],
   "source": [
    "#8. Graph pf the number of times each country been ranked over the 4 years \n",
    "#country count over 4 years \n",
    "country_count = df['country'].value_counts(ascending = True)\n",
    "country_count.plot(kind='bar', figsize=(14,6), x=\"country\")\n",
    "plt.title('Count of Countries', weight = 'bold', size = 12)"
   ]
  },
  {
   "cell_type": "code",
   "execution_count": 10,
   "id": "f2624ba7",
   "metadata": {
    "scrolled": true
   },
   "outputs": [
    {
     "data": {
      "image/png": "[encoded data removed]",
      "text/plain": [
       "<Figure size 432x288 with 1 Axes>"
      ]
     },
     "metadata": {
      "needs_background": "light"
     },
     "output_type": "display_data"
    }
   ],
   "source": [
    "#9. Graph of the top three countries total count over the years\n",
    "top_3 = ['USA','China','Japan']\n",
    "sns.countplot(x=\"country\", data=df, order=top_3, hue = df['year'], palette='mako')\n",
    "plt.xticks(size=25, rotation=0)\n",
    "plt.title(\"Top 3 Countries Count\",fontsize=20)\n",
    "plt.show()"
   ]
  },
  {
   "cell_type": "code",
   "execution_count": 11,
   "id": "e0967ef6",
   "metadata": {},
   "outputs": [
    {
     "data": {
      "text/html": [
       "<div>\n",
       "<style scoped>\n",
       "    .dataframe tbody tr th:only-of-type {\n",
       "        vertical-align: middle;\n",
       "    }\n",
       "\n",
       "    .dataframe tbody tr th {\n",
       "        vertical-align: top;\n",
       "    }\n",
       "\n",
       "    .dataframe thead th {\n",
       "        text-align: right;\n",
       "    }\n",
       "</style>\n",
       "<table border=\"1\" class=\"dataframe\">\n",
       "  <thead>\n",
       "    <tr style=\"text-align: right;\">\n",
       "      <th></th>\n",
       "      <th>world_rank</th>\n",
       "      <th>national_rank</th>\n",
       "      <th>quality_of_education</th>\n",
       "      <th>alumni_employment</th>\n",
       "      <th>quality_of_faculty</th>\n",
       "      <th>publications</th>\n",
       "      <th>influence</th>\n",
       "      <th>citations</th>\n",
       "      <th>broad_impact</th>\n",
       "      <th>patents</th>\n",
       "      <th>score</th>\n",
       "      <th>year</th>\n",
       "    </tr>\n",
       "  </thead>\n",
       "  <tbody>\n",
       "    <tr>\n",
       "      <th>world_rank</th>\n",
       "      <td>1.000000</td>\n",
       "      <td>0.238553</td>\n",
       "      <td>0.676166</td>\n",
       "      <td>0.668529</td>\n",
       "      <td>0.663864</td>\n",
       "      <td>0.923037</td>\n",
       "      <td>0.895871</td>\n",
       "      <td>0.856573</td>\n",
       "      <td>0.942998</td>\n",
       "      <td>0.698214</td>\n",
       "      <td>-0.549098</td>\n",
       "      <td>0.320844</td>\n",
       "    </tr>\n",
       "    <tr>\n",
       "      <th>national_rank</th>\n",
       "      <td>0.238553</td>\n",
       "      <td>1.000000</td>\n",
       "      <td>0.211975</td>\n",
       "      <td>0.135342</td>\n",
       "      <td>0.222833</td>\n",
       "      <td>0.326857</td>\n",
       "      <td>0.161086</td>\n",
       "      <td>0.186797</td>\n",
       "      <td>0.173043</td>\n",
       "      <td>0.159440</td>\n",
       "      <td>-0.199756</td>\n",
       "      <td>0.102951</td>\n",
       "    </tr>\n",
       "    <tr>\n",
       "      <th>quality_of_education</th>\n",
       "      <td>0.676166</td>\n",
       "      <td>0.211975</td>\n",
       "      <td>1.000000</td>\n",
       "      <td>0.606421</td>\n",
       "      <td>0.786181</td>\n",
       "      <td>0.624657</td>\n",
       "      <td>0.645641</td>\n",
       "      <td>0.630455</td>\n",
       "      <td>0.521615</td>\n",
       "      <td>0.528120</td>\n",
       "      <td>-0.600541</td>\n",
       "      <td>0.427732</td>\n",
       "    </tr>\n",
       "    <tr>\n",
       "      <th>alumni_employment</th>\n",
       "      <td>0.668529</td>\n",
       "      <td>0.135342</td>\n",
       "      <td>0.606421</td>\n",
       "      <td>1.000000</td>\n",
       "      <td>0.558618</td>\n",
       "      <td>0.572096</td>\n",
       "      <td>0.527382</td>\n",
       "      <td>0.559200</td>\n",
       "      <td>0.423619</td>\n",
       "      <td>0.528219</td>\n",
       "      <td>-0.510374</td>\n",
       "      <td>0.427710</td>\n",
       "    </tr>\n",
       "    <tr>\n",
       "      <th>quality_of_faculty</th>\n",
       "      <td>0.663864</td>\n",
       "      <td>0.222833</td>\n",
       "      <td>0.786181</td>\n",
       "      <td>0.558618</td>\n",
       "      <td>1.000000</td>\n",
       "      <td>0.634423</td>\n",
       "      <td>0.656406</td>\n",
       "      <td>0.652186</td>\n",
       "      <td>0.549345</td>\n",
       "      <td>0.555107</td>\n",
       "      <td>-0.693540</td>\n",
       "      <td>0.484788</td>\n",
       "    </tr>\n",
       "    <tr>\n",
       "      <th>publications</th>\n",
       "      <td>0.923037</td>\n",
       "      <td>0.326857</td>\n",
       "      <td>0.624657</td>\n",
       "      <td>0.572096</td>\n",
       "      <td>0.634423</td>\n",
       "      <td>1.000000</td>\n",
       "      <td>0.874952</td>\n",
       "      <td>0.829912</td>\n",
       "      <td>0.917878</td>\n",
       "      <td>0.671558</td>\n",
       "      <td>-0.522111</td>\n",
       "      <td>0.318245</td>\n",
       "    </tr>\n",
       "    <tr>\n",
       "      <th>influence</th>\n",
       "      <td>0.895871</td>\n",
       "      <td>0.161086</td>\n",
       "      <td>0.645641</td>\n",
       "      <td>0.527382</td>\n",
       "      <td>0.656406</td>\n",
       "      <td>0.874952</td>\n",
       "      <td>1.000000</td>\n",
       "      <td>0.845207</td>\n",
       "      <td>0.916040</td>\n",
       "      <td>0.611811</td>\n",
       "      <td>-0.522837</td>\n",
       "      <td>0.318298</td>\n",
       "    </tr>\n",
       "    <tr>\n",
       "      <th>citations</th>\n",
       "      <td>0.856573</td>\n",
       "      <td>0.186797</td>\n",
       "      <td>0.630455</td>\n",
       "      <td>0.559200</td>\n",
       "      <td>0.652186</td>\n",
       "      <td>0.829912</td>\n",
       "      <td>0.845207</td>\n",
       "      <td>1.000000</td>\n",
       "      <td>0.852638</td>\n",
       "      <td>0.598728</td>\n",
       "      <td>-0.522438</td>\n",
       "      <td>0.328771</td>\n",
       "    </tr>\n",
       "    <tr>\n",
       "      <th>broad_impact</th>\n",
       "      <td>0.942998</td>\n",
       "      <td>0.173043</td>\n",
       "      <td>0.521615</td>\n",
       "      <td>0.423619</td>\n",
       "      <td>0.549345</td>\n",
       "      <td>0.917878</td>\n",
       "      <td>0.916040</td>\n",
       "      <td>0.852638</td>\n",
       "      <td>1.000000</td>\n",
       "      <td>0.562861</td>\n",
       "      <td>-0.531590</td>\n",
       "      <td>-0.000124</td>\n",
       "    </tr>\n",
       "    <tr>\n",
       "      <th>patents</th>\n",
       "      <td>0.698214</td>\n",
       "      <td>0.159440</td>\n",
       "      <td>0.528120</td>\n",
       "      <td>0.528219</td>\n",
       "      <td>0.555107</td>\n",
       "      <td>0.671558</td>\n",
       "      <td>0.611811</td>\n",
       "      <td>0.598728</td>\n",
       "      <td>0.562861</td>\n",
       "      <td>1.000000</td>\n",
       "      <td>-0.474810</td>\n",
       "      <td>0.368570</td>\n",
       "    </tr>\n",
       "    <tr>\n",
       "      <th>score</th>\n",
       "      <td>-0.549098</td>\n",
       "      <td>-0.199756</td>\n",
       "      <td>-0.600541</td>\n",
       "      <td>-0.510374</td>\n",
       "      <td>-0.693540</td>\n",
       "      <td>-0.522111</td>\n",
       "      <td>-0.522837</td>\n",
       "      <td>-0.522438</td>\n",
       "      <td>-0.531590</td>\n",
       "      <td>-0.474810</td>\n",
       "      <td>1.000000</td>\n",
       "      <td>-0.239136</td>\n",
       "    </tr>\n",
       "    <tr>\n",
       "      <th>year</th>\n",
       "      <td>0.320844</td>\n",
       "      <td>0.102951</td>\n",
       "      <td>0.427732</td>\n",
       "      <td>0.427710</td>\n",
       "      <td>0.484788</td>\n",
       "      <td>0.318245</td>\n",
       "      <td>0.318298</td>\n",
       "      <td>0.328771</td>\n",
       "      <td>-0.000124</td>\n",
       "      <td>0.368570</td>\n",
       "      <td>-0.239136</td>\n",
       "      <td>1.000000</td>\n",
       "    </tr>\n",
       "  </tbody>\n",
       "</table>\n",
       "</div>"
      ],
      "text/plain": [
       "                      world_rank  national_rank  quality_of_education  \\\n",
       "world_rank              1.000000       0.238553              0.676166   \n",
       "national_rank           0.238553       1.000000              0.211975   \n",
       "quality_of_education    0.676166       0.211975              1.000000   \n",
       "alumni_employment       0.668529       0.135342              0.606421   \n",
       "quality_of_faculty      0.663864       0.222833              0.786181   \n",
       "publications            0.923037       0.326857              0.624657   \n",
       "influence               0.895871       0.161086              0.645641   \n",
       "citations               0.856573       0.186797              0.630455   \n",
       "broad_impact            0.942998       0.173043              0.521615   \n",
       "patents                 0.698214       0.159440              0.528120   \n",
       "score                  -0.549098      -0.199756             -0.600541   \n",
       "year                    0.320844       0.102951              0.427732   \n",
       "\n",
       "                      alumni_employment  quality_of_faculty  publications  \\\n",
       "world_rank                     0.668529            0.663864      0.923037   \n",
       "national_rank                  0.135342            0.222833      0.326857   \n",
       "quality_of_education           0.606421            0.786181      0.624657   \n",
       "alumni_employment              1.000000            0.558618      0.572096   \n",
       "quality_of_faculty             0.558618            1.000000      0.634423   \n",
       "publications                   0.572096            0.634423      1.000000   \n",
       "influence                      0.527382            0.656406      0.874952   \n",
       "citations                      0.559200            0.652186      0.829912   \n",
       "broad_impact                   0.423619            0.549345      0.917878   \n",
       "patents                        0.528219            0.555107      0.671558   \n",
       "score                         -0.510374           -0.693540     -0.522111   \n",
       "year                           0.427710            0.484788      0.318245   \n",
       "\n",
       "                      influence  citations  broad_impact   patents     score  \\\n",
       "world_rank             0.895871   0.856573      0.942998  0.698214 -0.549098   \n",
       "national_rank          0.161086   0.186797      0.173043  0.159440 -0.199756   \n",
       "quality_of_education   0.645641   0.630455      0.521615  0.528120 -0.600541   \n",
       "alumni_employment      0.527382   0.559200      0.423619  0.528219 -0.510374   \n",
       "quality_of_faculty     0.656406   0.652186      0.549345  0.555107 -0.693540   \n",
       "publications           0.874952   0.829912      0.917878  0.671558 -0.522111   \n",
       "influence              1.000000   0.845207      0.916040  0.611811 -0.522837   \n",
       "citations              0.845207   1.000000      0.852638  0.598728 -0.522438   \n",
       "broad_impact           0.916040   0.852638      1.000000  0.562861 -0.531590   \n",
       "patents                0.611811   0.598728      0.562861  1.000000 -0.474810   \n",
       "score                 -0.522837  -0.522438     -0.531590 -0.474810  1.000000   \n",
       "year                   0.318298   0.328771     -0.000124  0.368570 -0.239136   \n",
       "\n",
       "                          year  \n",
       "world_rank            0.320844  \n",
       "national_rank         0.102951  \n",
       "quality_of_education  0.427732  \n",
       "alumni_employment     0.427710  \n",
       "quality_of_faculty    0.484788  \n",
       "publications          0.318245  \n",
       "influence             0.318298  \n",
       "citations             0.328771  \n",
       "broad_impact         -0.000124  \n",
       "patents               0.368570  \n",
       "score                -0.239136  \n",
       "year                  1.000000  "
      ]
     },
     "execution_count": 11,
     "metadata": {},
     "output_type": "execute_result"
    }
   ],
   "source": [
    "#10. Correlation chart \n",
    "correlations = df.corr()\n",
    "correlations"
   ]
  },
  {
   "cell_type": "code",
   "execution_count": 12,
   "id": "4f6f1cb5",
   "metadata": {},
   "outputs": [
    {
     "data": {
      "text/plain": [
       "Text(0.5, 1.0, 'Correlation Heatmap')"
      ]
     },
     "execution_count": 12,
     "metadata": {},
     "output_type": "execute_result"
    },
    {
     "data": {
      "image/png": "[encoded data removed]",
      "text/plain": [
       "<Figure size 1296x432 with 2 Axes>"
      ]
     },
     "metadata": {
      "needs_background": "light"
     },
     "output_type": "display_data"
    }
   ],
   "source": [
    "#11. Correlation Heatmap\n",
    "plt.figure(figsize=(18, 6))\n",
    "heatmap = sns.heatmap(correlations, vmin = -1, vmax = 1, annot = True, cmap = 'BrBG')\n",
    "heatmap.set_title('Correlation Heatmap',fontdict={'fontsize': 20})"
   ]
  },
  {
   "cell_type": "markdown",
   "id": "d173ca65",
   "metadata": {},
   "source": [
    "### Why did you choose this dataset over others? \n",
    "\n",
    "Having to choose a university after high school is difficult for most students because of the many options available. Everyone wants to get into the best universities in their country or the best countries in the world. The dataset World University Ranking helps us see what factors have the most impact on the university’s ranking which will help us in our future decision making when choosing a university for masters or PhD. It also allows us to see the quality of education and the influence of the institution overall. \n",
    "\n",
    "### Was there any other dataset you also found interesting?\n",
    "\n",
    "We found many datasets but some were particularly eye-catching and intriguing. A dataset called Data Science and Stem salaries was one that we found interesting as it pertains to our field. Another interesting dataset was Factors Affecting Campus Placement. As university students it is important to know what factors affect our campus placement. However we chose the World University Ranking dataset as it also had missing values in its data and we think it will be interesting to deal with missing data in our preprocessing. \n",
    "\n",
    "### What are the data analysis questions you want to use this dataset for?\n",
    "\n",
    "1. What effect does national rank have on the world ranking?  \n",
    "2. What impact does quality of education have on publications and patents?\n",
    "3. What attribute has the greatest effect/best relation with world ranking?\n",
    "4. Are there certain attributes or qualities of an institution that have a greater impact on it’s ranking based on the year it was conducted (2012 - 2015)?\n",
    "5. Are there different countries that value different qualities more in an institution? What countries (if any) do not align with the world wide trend in terms of the desired qualities?\n",
    "\n",
    "### What methods do you expect to apply when you process the data to answer these questions?\n",
    "\n",
    "- Have side by side comparison of each variable\n",
    "- Find the Pearson correlation coefficient between institutes and different attributes to investigate the nature and strength of their relation\n",
    "- Plot the attributes using a scatter plot to study the relationship using matplotlib in python\n",
    "- calculate and plot the least squares best fit line to approximate the relationship\n",
    "\n",
    "### Do you see any potential for data science applications using this data?Examples: models for prediction, recommendation, data visualization, etc\n",
    "\n",
    "We can use this data to recommend a university based on the most important criteria for the prospective students. A student might be looking to find a university with the best rank for quality of education and publication or a student maybe looking to find a university with the best alumni employment. Thus, this data could be used to make recommendations to students based on different criteria. \n",
    "\n",
    "Universities also can use this dataset as a guideline to increase their ranks and the aspects they need to improve.This data could also be converted to a machine learning model for the prediction of the rank based on its attributes.Thus, an institute could get an approximate value of their ranking compared to others based on the previous trends."
   ]
  },
  {
   "cell_type": "markdown",
   "id": "86f15055",
   "metadata": {},
   "source": [
    "## Part 1. What effect does national rank have on the world ranking?"
   ]
  },
  {
   "cell_type": "code",
   "execution_count": null,
   "id": "d61f487b",
   "metadata": {},
   "outputs": [],
   "source": []
  },
  {
   "cell_type": "markdown",
   "id": "693dba0b",
   "metadata": {},
   "source": [
    "## Part 2. What impact does quality of education have on publications and patents?\n",
    "\n",
    "### According on the correlation heat map, the correlation between quality of education and publications is 0.62. To verify, we will compute it manually."
   ]
  },
  {
   "cell_type": "code",
   "execution_count": 16,
   "id": "7608c6e2",
   "metadata": {},
   "outputs": [
    {
     "data": {
      "text/plain": [
       "0.625"
      ]
     },
     "execution_count": 16,
     "metadata": {},
     "output_type": "execute_result"
    }
   ],
   "source": [
    "n = df.quality_of_education.count()  #number of elemnts in one row\n",
    "\n",
    "#computing Sxx (Sxx=∑x^2−(∑x)^2/n)\n",
    "sum_QoE = df.quality_of_education.sum()  \n",
    "df['squared_QOE']=df['quality_of_education']**2\n",
    "squared_sum_QOE = df.squared_QOE.sum()\n",
    "sxx = (squared_sum_QOE - ((sum_QoE *sum_QoE )/n))\n",
    "\n",
    "#computing Syy (Syy=∑y^2−(∑y)^2/n)\n",
    "sum_pb = df.publications.sum()\n",
    "df['squared_pb']=df['publications']**2\n",
    "squared_sum_pb = df.squared_pb.sum()\n",
    "syy = (squared_sum_pb - ((sum_pb *sum_pb)/n))\n",
    "\n",
    "#computing Sxy Sxy=∑xy−(∑x∑y/n)\n",
    "pb_and_QoE = df[\"pb_and_QoE\"] = df[\"quality_of_education\"] * df[\"publications\"]\n",
    "pb_and_QoE_sum = pb_and_QoE.sum()\n",
    "sxy = (pb_and_QoE_sum - ((sum_QoE*sum_pb)/n))\n",
    "\n",
    "#Pearson’s sample correlation r is given by  Sxy/(√sxx)*(√syy)\n",
    "pearson_coefficient = sxy/((math.sqrt(sxx))*(math.sqrt(syy)))\n",
    "np.around(pearson_coefficient,3)\n",
    "#0.625"
   ]
  },
  {
   "cell_type": "markdown",
   "id": "1a17e4de",
   "metadata": {},
   "source": [
    "### Based on our calculations, the correlation between the quality of education and publications is 0.625, which is reflected onto the correlation heat map. Since Pearson’s Correlation Coefficient (r) is between 0.5 and 0.8 it means that the quality of education and publications have a positive moderate relationship. A positive correlation between quality of education and publications does not necessarily imply a cause and effect relationship.\n",
    "\n",
    "### We will also compute the correlation between the quality of education and patents:"
   ]
  },
  {
   "cell_type": "code",
   "execution_count": 17,
   "id": "1836eab3",
   "metadata": {},
   "outputs": [
    {
     "data": {
      "text/plain": [
       "0.528"
      ]
     },
     "execution_count": 17,
     "metadata": {},
     "output_type": "execute_result"
    }
   ],
   "source": [
    "#computing Syy (Syy=∑y^2−(∑y)^2/n)\n",
    "sum_pt = df.patents.sum()\n",
    "df['squared_pt']=df['patents']**2\n",
    "squared_sum_pt = df.squared_pt.sum()\n",
    "syy2 = (squared_sum_pt - ((sum_pt *sum_pt )/n))\n",
    "\n",
    "#computing Sxy Sxy=∑xy−(∑x∑y/n)\n",
    "pt_and_QoE = df[\"pt_and_QoE\"] = df[\"quality_of_education\"] * df[\"patents\"]\n",
    "pt_and_QoE_sum = pt_and_QoE.sum()\n",
    "sxy2 = (pt_and_QoE_sum - ((sum_QoE*sum_pt)/n))\n",
    "\n",
    "#Pearson’s sample correlation r is given by  Sxy/(√sxx)*(√syy)\n",
    "pearson_coefficient2 = sxy2/((math.sqrt(sxx))*(math.sqrt(syy2)))\n",
    "np.around(pearson_coefficient2,3)\n",
    "#0.528"
   ]
  },
  {
   "cell_type": "markdown",
   "id": "c98fb359",
   "metadata": {},
   "source": [
    "### Based on our calculations, the correlation between the quality of education and publications is 0.528, which also reflects onto our correlation heat map. Since Pearson’s Correlation Coefficient (r) is between 0.5 and 0.8 it means that the quality of education and patents have a positive moderate relationship. A positive correlation between quality of education and patents does not necessarily imply a cause and effect relationship. However this relationship is weaker than the relationship between quality of education and publications.\n",
    "\n",
    "### According to our results, both attributes have a positive moderate relationship."
   ]
  },
  {
   "cell_type": "markdown",
   "id": "2aa38da0",
   "metadata": {},
   "source": [
    "## Part 3: What attribute has the greatest effect/best relation with world ranking?\n",
    "\n",
    "### To answer this, we will create a catplot for the World Rank's correlation to each attribute. We will use the following steps:\n",
    "\n",
    "### 1. Get the list of the attributes and its correlation to 'world_rank'. We will sort the list in ascending order:"
   ]
  },
  {
   "cell_type": "code",
   "execution_count": 167,
   "id": "b1a817f8",
   "metadata": {},
   "outputs": [
    {
     "data": {
      "text/plain": [
       "score                  -0.549098\n",
       "national_rank           0.238553\n",
       "year                    0.320844\n",
       "quality_of_faculty      0.663864\n",
       "alumni_employment       0.668529\n",
       "quality_of_education    0.676166\n",
       "patents                 0.698214\n",
       "citations               0.856573\n",
       "influence               0.895871\n",
       "publications            0.923037\n",
       "broad_impact            0.942998\n",
       "world_rank              1.000000\n",
       "Name: world_rank, dtype: float64"
      ]
     },
     "execution_count": 167,
     "metadata": {},
     "output_type": "execute_result"
    }
   ],
   "source": [
    "world_rank_relations = correlations['world_rank']\n",
    "world_rank_relations.sort_values(ascending=True)"
   ]
  },
  {
   "cell_type": "markdown",
   "id": "c6131952",
   "metadata": {},
   "source": [
    "### 2. Using the sorted list, a new list will be made for labelling the x-axis of our catplot. This will be done so our plot can be in ascending order to help furthur visualize the correlation:"
   ]
  },
  {
   "cell_type": "code",
   "execution_count": 160,
   "id": "c32e01a9",
   "metadata": {},
   "outputs": [],
   "source": [
    "list_of_new_labels = ['score','national_rank','year','quality_of_faculty','alumni_employment','quality_of_education','patents','citations','influence','publications','broad_impact','world_rank']"
   ]
  },
  {
   "cell_type": "markdown",
   "id": "92605712",
   "metadata": {},
   "source": [
    "### 3. A seaborn catplot will be constructed using the data from dataframe \"correlations\" and only use the \"world_rank\"s correlation data. "
   ]
  },
  {
   "cell_type": "code",
   "execution_count": 159,
   "id": "c1e77e0c",
   "metadata": {},
   "outputs": [
    {
     "data": {
      "text/plain": [
       "<seaborn.axisgrid.FacetGrid at 0x7f1f6bad0c40>"
      ]
     },
     "execution_count": 159,
     "metadata": {},
     "output_type": "execute_result"
    },
    {
     "data": {
      "image/png": "[encoded data removed]",
      "text/plain": [
       "<Figure size 1512x504 with 1 Axes>"
      ]
     },
     "metadata": {
      "needs_background": "light"
     },
     "output_type": "display_data"
    }
   ],
   "source": [
    "axes = sns.catplot(data=correlations, kind=\"bar\", x='world_rank', y= 'world_rank',height=7, aspect = 3)\n",
    "axes.set_xticklabels(list_of_new_labels)"
   ]
  },
  {
   "cell_type": "markdown",
   "id": "c6069139",
   "metadata": {},
   "source": [
    "### According to the catplot, the attribute that has the greatest affect/relationship with the world rank are broad impact (correlation coefficience (r) of 0.942998), publications (r = 0.923037), influence (r = 0.895871), and citations (r = 0.856573). These top four attributes have a strong positive correlation to the world ranking of universities."
   ]
  },
  {
   "cell_type": "code",
   "execution_count": null,
   "id": "b0f885e8",
   "metadata": {},
   "outputs": [],
   "source": []
  }
 ],
 "metadata": {
  "kernelspec": {
   "display_name": "Python 3 (ipykernel)",
   "language": "python",
   "name": "python3"
  },
  "language_info": {
   "codemirror_mode": {
    "name": "ipython",
    "version": 3
   },
   "file_extension": ".py",
   "mimetype": "text/x-python",
   "name": "python",
   "nbconvert_exporter": "python",
   "pygments_lexer": "ipython3",
   "version": "3.8.12"
  }
 },
 "nbformat": 4,
 "nbformat_minor": 5
}
