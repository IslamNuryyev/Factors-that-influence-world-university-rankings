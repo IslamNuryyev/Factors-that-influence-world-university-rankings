{
 "cells": [
  {
   "attachments": {},
   "cell_type": "markdown",
   "id": "ba463c7f",
   "metadata": {},
   "source": [
    "Projet Group 5:\n",
    "\n",
    "Aanisha Newaz (100788588)\n",
    "Japnit Ahuja (100790042) \n",
    "Islam Nuryyev(100778667) \n",
    "Jessica Patel (100785837) \n",
    "\n",
    "\n",
    "# 1.\tIntroduction: Explain why you chose the topic, the questions you are interested in studying. List team members and a description of how each contributed to the project.\n",
    "\n",
    "Having to choose a university after high school is difficult for most students because of the many options available. Everyone wants to get into the best universities in their country or the best countries in the world. The dataset World University Ranking helps us see what factors have the most impact on the university’s ranking which will help us in our future decision making when choosing a university for masters or PhD. It also allows us to see the quality of education and the influence of the institution overall. \n",
    "\n",
    "We found many datasets but some were particularly eye-catching and intriguing. A dataset called Data Science and Stem salaries was one that we found interesting as it pertains to our field. Another interesting dataset was Factors Affecting Campus Placement. As university students it is important to know what factors affect our campus placement. However we chose the World University Ranking dataset as it also had missing values in its data and we think it will be interesting to deal with missing data in our preprocessing. \n",
    "\n",
    "Questions and methods we are interested in studying. \n",
    "\n",
    "1. What effect does national rank have on the world ranking?  \n",
    "2. What impact does quality of education have on publications and patents?\n",
    "3. What attribute has the greatest effect/best relation with world ranking?\n",
    "4. Are there certain attributes or qualities of an institution that have a greater impact on it’s ranking based on the year it was conducted (2012 - 2015)?\n",
    "5. Are there different countries that value different qualities more in an institution? What countries (if any) do not align with the world wide trend in terms of the desired qualities?\n",
    "\n",
    "- Have side by side comparison of each variable\n",
    "- Find the Pearson correlation coefficient between institutes and different attributes to investigate the nature and strength of their relation\n",
    "- Plot the attributes using a scatter plot to study the relationship using matplotlib in python\n",
    "- calculate and plot the least squares best fit line to approximate the relationship"
   ]
  },
  {
   "attachments": {},
   "cell_type": "markdown",
   "id": "2f3fd5fb",
   "metadata": {},
   "source": [
    "# 2.\tDescription of data: Describe the dataset, how was it collect, how you accessed it, references/credit to source. \n",
    "\n",
    "Chosen Dataset:\n",
    "    https://www.kaggle.com/mylesoneill/world-university-rankings\n",
    "    \n",
    "Name of dataset: World University Rankings\n",
    "\n",
    "The World University Rankings dataset collected by Myles O'Neill on www.kaggle.com is a dataset of ranked universities done by three different ranking institutes. For our analysis, we will be using the Center for World University Rankings (https://cwur.org/) dataset. This ranking list launched in 2012 in Saudi Arabia. \n",
    "\n",
    "The ranking list was formed from various different sources, including the Science Citation Index Expanded, Social Sciences Citation Index, and the Arts & Humanities Citation Index. These indexes were used to help sort universities based on different attributes.\n",
    "\n",
    "This dataset has upto fourteen attributes to help determing the chosen ranking for each universities:\n",
    "\n",
    "    1. World ranking\n",
    "        World ranking for universities in order from year 2012 - 2015        \n",
    "    2. Institution\n",
    "        Name of institutions\n",
    "    3. Country\n",
    "        Country of institutions's location\n",
    "    4. National ranking\n",
    "        Institution's ranking within it's country of origin\n",
    "    5. Quality of education\n",
    "        Rank for quality of education\n",
    "    6. Alumni employment\n",
    "        Rank for alumni employment\n",
    "    7. Quality of faculty\n",
    "        Rank for quality of faculty\n",
    "    8. Publications\n",
    "        Rank for publications\n",
    "    9. Influence\n",
    "        Rank for influence\n",
    "    10. Citations\n",
    "        Number of students at the university\n",
    "    11. Broad impact\n",
    "        Rank for broad impact\n",
    "    12. Patents\n",
    "        Rank for patents\n",
    "    13. Score\n",
    "        Total score that's used for determining world rank of institution\n",
    "    14. Year\n",
    "        Year of ranking (2012 - 2015)"
   ]
  },
  {
   "cell_type": "markdown",
   "id": "c6903025",
   "metadata": {},
   "source": [
    "# 3. Analysis of the data: Provide a detailed, well-organized description of data quality, including the features, any data that should be cleaned or pre-processed before you EDA."
   ]
  },
  {
   "cell_type": "code",
   "execution_count": null,
   "id": "925b10d9",
   "metadata": {},
   "outputs": [],
   "source": []
  },
  {
   "cell_type": "markdown",
   "id": "baecec3b",
   "metadata": {},
   "source": [
    "# 4.\tExploratory Data Analysis: Provide a detailed, well-organized description of your findings, including textual description, graphs, and code. Your focus should be on both the results and the process. Include, as reasonable and relevant, approaches that didn’t work, challenges, the data cleaning process, etc."
   ]
  },
  {
   "cell_type": "code",
   "execution_count": null,
   "id": "a755c902",
   "metadata": {},
   "outputs": [],
   "source": []
  },
  {
   "cell_type": "markdown",
   "id": "62e49579",
   "metadata": {},
   "source": [
    "# 5.\tPotential Data Science: Based on your data analysis and findings. Describe any potential ideas if you were to pursue a data science or machine learning project using this dataset. If you don’t find any potential, explain your rationale.\n",
    "\n",
    "We can use this data to recommend a university based on the most important criteria for the prospective students. A student might be looking to find a university with the best rank for quality of education and publication or a student maybe looking to find a university with the best alumni employment. Thus, this data could be used to make recommendations to students based on different criteria. \n",
    "\n",
    "Universities also can use this dataset as a guideline to increase their ranks and the aspects they need to improve.This data could also be converted to a machine learning model for the prediction of the rank based on its attributes.Thus, an institute could get an approximate value of their ranking compared to others based on the previous trends."
   ]
  },
  {
   "cell_type": "markdown",
   "id": "c17600f9",
   "metadata": {},
   "source": [
    "# 6.\tConclusion: Discuss limitations and future directions, lessons learned, maybe things you did not predict to find out or things you learned as you performed the analysis"
   ]
  },
  {
   "cell_type": "code",
   "execution_count": null,
   "id": "8717769a",
   "metadata": {},
   "outputs": [],
   "source": []
  }
 ],
 "metadata": {
  "language_info": {
   "name": "python"
  },
  "orig_nbformat": 4
 },
 "nbformat": 4,
 "nbformat_minor": 2
}
